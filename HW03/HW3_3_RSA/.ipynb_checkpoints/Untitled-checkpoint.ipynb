{
 "cells": [
  {
   "cell_type": "code",
   "execution_count": 9,
   "metadata": {
    "Collapsed": "false"
   },
   "outputs": [
    {
     "name": "stdin",
     "output_type": "stream",
     "text": [
      " 143\n",
      " 113\n",
      " 41\n"
     ]
    },
    {
     "name": "stdout",
     "output_type": "stream",
     "text": [
      "123\n"
     ]
    }
   ],
   "source": [
    "def binpow(x, y, mod):\n",
    "    if y == 0:\n",
    "        return 1\n",
    "    p = binpow(x, y // 2, mod)\n",
    "    p = (p * p) % mod\n",
    "    if y % 2:\n",
    "        p = (p * x) % mod\n",
    "    return p\n",
    "\n",
    "\n",
    "def adv_gcd(a, b, x, y):\n",
    "    if (a == 0):\n",
    "        x[0] = 0\n",
    "        y[0] = 1\n",
    "        return b\n",
    "\n",
    "    x_new = [0]\n",
    "    y_new = [0]\n",
    "    d = adv_gcd(b % a, a, x_new, y_new)\n",
    "    x[0] = y_new[0] - (b // a) * x_new[0]\n",
    "    y[0] = x_new[0]\n",
    "    return d\n",
    "\n",
    "n, e, C = int(input()), int(input()), int(input())\n",
    "\n",
    "i = 2\n",
    "while i * i <= n:\n",
    "    if n % i == 0:\n",
    "        p, q = i, n // i\n",
    "        break\n",
    "    i += 1\n",
    "        \n",
    "phi = (p - 1) * (q - 1)\n",
    "\n",
    "x = [-1]\n",
    "gcd = adv_gcd(e, phi, x, [-1])\n",
    "d = x[0] % phi\n",
    "print(binpow(C, d, n))\n"
   ]
  }
 ],
 "metadata": {
  "kernelspec": {
   "display_name": "py3.6",
   "language": "python",
   "name": "other-env"
  },
  "language_info": {
   "codemirror_mode": {
    "name": "ipython",
    "version": 3
   },
   "file_extension": ".py",
   "mimetype": "text/x-python",
   "name": "python",
   "nbconvert_exporter": "python",
   "pygments_lexer": "ipython3",
   "version": "3.6.5"
  }
 },
 "nbformat": 4,
 "nbformat_minor": 4
}
