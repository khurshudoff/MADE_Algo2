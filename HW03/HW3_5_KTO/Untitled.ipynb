{
 "cells": [
  {
   "cell_type": "code",
   "execution_count": 1,
   "metadata": {
    "Collapsed": "false"
   },
   "outputs": [],
   "source": [
    "def adv_gcd(a, b, x, y):\n",
    "    if (a == 0):\n",
    "        x[0] = 0\n",
    "        y[0] = 1\n",
    "        return b\n",
    " \n",
    "    x_new = [0]\n",
    "    y_new = [0]\n",
    "    d = adv_gcd(b % a, a, x_new, y_new)\n",
    "    x[0] = y_new[0] - (b // a) * x_new[0]\n",
    "    y[0] = x_new[0]\n",
    "    return d\n",
    " \n",
    "\n",
    "def LDE(a, b, c):\n",
    "    x = [-1]\n",
    "    y = [-1]\n",
    "    gcd = adv_gcd(a, b, x, y)\n",
    "    if c % gcd != 0:\n",
    "        return -1\n",
    "    else:\n",
    "        c //= gcd\n",
    "        return - x[0] * c, - y[0] * c\n",
    "\n",
    "n = int(input())\n",
    "for i in range(n):\n",
    "    a1, a2, m1, m2 = list(map(int, input().split()))\n",
    " \n",
    "    p, q = LDE(m1, -m2, 1)\n",
    "    x1 = m1 * p + 1\n",
    "    p, q = LDE(m1, -m2, -1)\n",
    "    x2 = m2 * q + 1\n",
    " \n",
    "    x = x1 * a1 + x2 * a2\n",
    "    print(x % (m1 * m2))\n"
   ]
  },
  {
   "cell_type": "code",
   "execution_count": 72,
   "metadata": {
    "Collapsed": "false"
   },
   "outputs": [
    {
     "name": "stdin",
     "output_type": "stream",
     "text": [
      " 2\n",
      " 1 0 2 3\n"
     ]
    },
    {
     "name": "stdout",
     "output_type": "stream",
     "text": [
      "3\n"
     ]
    },
    {
     "name": "stdin",
     "output_type": "stream",
     "text": [
      " 3 2 5 9\n"
     ]
    },
    {
     "name": "stdout",
     "output_type": "stream",
     "text": [
      "38\n"
     ]
    }
   ],
   "source": []
  }
 ],
 "metadata": {
  "kernelspec": {
   "display_name": "py3.6",
   "language": "python",
   "name": "other-env"
  },
  "language_info": {
   "codemirror_mode": {
    "name": "ipython",
    "version": 3
   },
   "file_extension": ".py",
   "mimetype": "text/x-python",
   "name": "python",
   "nbconvert_exporter": "python",
   "pygments_lexer": "ipython3",
   "version": "3.6.5"
  }
 },
 "nbformat": 4,
 "nbformat_minor": 4
}
