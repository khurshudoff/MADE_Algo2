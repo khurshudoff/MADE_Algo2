{
 "cells": [
  {
   "cell_type": "code",
   "execution_count": null,
   "metadata": {},
   "outputs": [],
   "source": [
    "def adv_gcd(a, b, x, y):\n",
    "    if (a == 0):\n",
    "        x[0] = 0\n",
    "        y[0] = 1\n",
    "        return b\n",
    "\n",
    "    x_new = [0]\n",
    "    y_new = [0]\n",
    "    d = adv_gcd(b % a, a, x_new, y_new)\n",
    "    x[0] = y_new[0] - (b // a) * x_new[0]\n",
    "    y[0] = x_new[0]\n",
    "    return d\n",
    "\n",
    "x = [-1]\n",
    "y = [-1]\n",
    "a, b, c = list(map(int, input().split()))\n",
    "gcd = adv_gcd(a, b, x, y)\n",
    "if c % gcd != 0:\n",
    "    print(-1)\n",
    "else:\n",
    "    c //= gcd\n",
    "    print(- x[0] * c, - y[0] * c)\n"
   ]
  }
 ],
 "metadata": {
  "kernelspec": {
   "display_name": "py3.6",
   "language": "python",
   "name": "other-env"
  },
  "language_info": {
   "codemirror_mode": {
    "name": "ipython",
    "version": 3
   },
   "file_extension": ".py",
   "mimetype": "text/x-python",
   "name": "python",
   "nbconvert_exporter": "python",
   "pygments_lexer": "ipython3",
   "version": "3.6.5"
  }
 },
 "nbformat": 4,
 "nbformat_minor": 4
}
