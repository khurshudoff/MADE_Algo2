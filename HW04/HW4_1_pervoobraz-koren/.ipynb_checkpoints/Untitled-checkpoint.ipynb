{
 "cells": [
  {
   "cell_type": "code",
   "execution_count": null,
   "metadata": {
    "Collapsed": "false"
   },
   "outputs": [],
   "source": []
  },
  {
   "cell_type": "code",
   "execution_count": 23,
   "metadata": {
    "Collapsed": "false"
   },
   "outputs": [
    {
     "name": "stdin",
     "output_type": "stream",
     "text": [
      " 239\n"
     ]
    },
    {
     "name": "stdout",
     "output_type": "stream",
     "text": [
      "7\n"
     ]
    }
   ],
   "source": [
    "def primify(n):\n",
    "    primes = []\n",
    "    cur_div = 2\n",
    "\n",
    "    while cur_div * cur_div <= n:\n",
    "        if n % cur_div == 0:\n",
    "            primes.append(cur_div)\n",
    "            while n % cur_div == 0:\n",
    "                n //= cur_div\n",
    "        cur_div += 1\n",
    "\n",
    "    if n > 1:\n",
    "        primes.append(n)\n",
    "\n",
    "    return primes\n",
    "\n",
    "\n",
    "def fast_power(el, power, mod):\n",
    "    res = 1\n",
    "    while power > 0:\n",
    "        if power & 1:\n",
    "            res = (res * el) % mod\n",
    "            power -= 1\n",
    "        else:\n",
    "            el = (el * el) % mod\n",
    "            power //= 2\n",
    "    return res\n",
    "\n",
    "\n",
    "def check_gen(g, p):\n",
    "    for i in prime_div_p_min_1:\n",
    "        if fast_power(g, (p - 1) // i, p) == 1:\n",
    "            return False\n",
    "    return True\n",
    "\n",
    "\n",
    "p = int(input())\n",
    "prime_div_p_min_1 = primify(p - 1)\n",
    "\n",
    "for g in range(2, p):\n",
    "    if check_gen(g, p):\n",
    "        print(g)\n",
    "        break\n"
   ]
  },
  {
   "cell_type": "code",
   "execution_count": null,
   "metadata": {
    "Collapsed": "false"
   },
   "outputs": [],
   "source": []
  }
 ],
 "metadata": {
  "kernelspec": {
   "display_name": "py3.6",
   "language": "python",
   "name": "other-env"
  },
  "language_info": {
   "codemirror_mode": {
    "name": "ipython",
    "version": 3
   },
   "file_extension": ".py",
   "mimetype": "text/x-python",
   "name": "python",
   "nbconvert_exporter": "python",
   "pygments_lexer": "ipython3",
   "version": "3.6.5"
  }
 },
 "nbformat": 4,
 "nbformat_minor": 4
}
