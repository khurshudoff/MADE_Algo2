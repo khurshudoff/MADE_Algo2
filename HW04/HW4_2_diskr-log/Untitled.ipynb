{
 "cells": [
  {
   "cell_type": "code",
   "execution_count": 86,
   "metadata": {
    "Collapsed": "false"
   },
   "outputs": [],
   "source": [
    "def fast_power(el, power, mod):\n",
    "    res = 1\n",
    "    while power > 0:\n",
    "        if power & 1:\n",
    "            res = (res * el) % mod\n",
    "            power -= 1\n",
    "        else:\n",
    "            el = (el * el) % mod\n",
    "            power //= 2\n",
    "    return res\n",
    "\n",
    "\n",
    "def create_s2():\n",
    "    S2 = {}\n",
    "    tmp = (b * a) % m\n",
    "    for s in range(1, k + 1):\n",
    "        S2[tmp] = s\n",
    "        tmp = (tmp * a) % m\n",
    "\n",
    "    return S2\n",
    "\n",
    "\n",
    "def find_x():\n",
    "    mn = fast_power(a, k, m)\n",
    "    tmp = mn\n",
    "    for r in range(1, k + 1):\n",
    "        if tmp in S2:\n",
    "            return (r * k - S2[tmp]) % m\n",
    "        tmp = (tmp * mn) % m\n",
    "    return -1\n",
    "\n",
    "\n",
    "a, b, m = list(map(int, input().split()))\n",
    "\n",
    "k = int(m ** (1 / 2) + 1)\n",
    "\n",
    "S2 = create_s2()\n",
    "print(find_x())"
   ]
  },
  {
   "cell_type": "code",
   "execution_count": null,
   "metadata": {
    "Collapsed": "false"
   },
   "outputs": [],
   "source": []
  }
 ],
 "metadata": {
  "kernelspec": {
   "display_name": "py3.6",
   "language": "python",
   "name": "other-env"
  },
  "language_info": {
   "codemirror_mode": {
    "name": "ipython",
    "version": 3
   },
   "file_extension": ".py",
   "mimetype": "text/x-python",
   "name": "python",
   "nbconvert_exporter": "python",
   "pygments_lexer": "ipython3",
   "version": "3.6.5"
  }
 },
 "nbformat": 4,
 "nbformat_minor": 4
}
