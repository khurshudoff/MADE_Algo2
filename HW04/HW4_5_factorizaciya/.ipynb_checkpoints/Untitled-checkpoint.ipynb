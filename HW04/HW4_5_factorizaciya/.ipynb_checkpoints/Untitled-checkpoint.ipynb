{
 "cells": [
  {
   "cell_type": "code",
   "execution_count": 54,
   "metadata": {
    "Collapsed": "false"
   },
   "outputs": [
    {
     "name": "stdin",
     "output_type": "stream",
     "text": [
      " 1234245\n"
     ]
    },
    {
     "name": "stdout",
     "output_type": "stream",
     "text": [
      "3 5 107 769\n"
     ]
    }
   ],
   "source": [
    "import random as rd\n",
    "\n",
    "def fast_power(el, power, mod):\n",
    "    res = 1\n",
    "    while power > 0:\n",
    "        if power & 1:\n",
    "            res = (res * el) % mod\n",
    "            power -= 1\n",
    "        else:\n",
    "            el = (el * el) % mod\n",
    "            power //= 2\n",
    "    return res\n",
    "\n",
    "def isPrime(m):\n",
    "    if m == 1:\n",
    "        return False\n",
    "    \n",
    "    tmp = m - 1\n",
    "    cnt2 = 0\n",
    "    while tmp % 2 == 0:\n",
    "        cnt2 += 1\n",
    "        tmp //= 2\n",
    "\n",
    "    arr_a = [100, 101, 106, 107, 108, 235, 23, 125436]\n",
    "        \n",
    "    for a in arr_a:\n",
    "        if a % m == 0:\n",
    "            continue\n",
    "        arr = [fast_power(a, tmp, m)]\n",
    "        for i in range(cnt2):\n",
    "            arr.append((arr[-1] ** 2) % m)\n",
    "        \n",
    "        for i in range(len(arr) - 1, -1, -1):\n",
    "            if arr[i] != 1:\n",
    "                break\n",
    "        if arr[-1] != 1 or (i != 0 and arr[i] != -1 % m):\n",
    "            return False\n",
    "    return True\n",
    "\n",
    "def gcd(a, b):\n",
    "    while b:\n",
    "        b, a = a % b, b\n",
    "    return a\n",
    "\n",
    "def do_step(v, flag = 0):\n",
    "    def f(x, m):\n",
    "        const = 1\n",
    "        if flag:\n",
    "            const = rd.randint(3, 10000)\n",
    "        return (x ** 2 + const) % m\n",
    "    if v == 1:\n",
    "        return\n",
    "    \n",
    "    if isPrime(v):\n",
    "        res.append(v)\n",
    "        return\n",
    "    \n",
    "    x1 = x2 = 5 % v\n",
    "    g = 1\n",
    "    while True:\n",
    "        x1 = f(x1, v)\n",
    "        x2 = f(f(x2, v), v)\n",
    "        g = gcd(abs(x1 - x2), v)\n",
    "        if g > 1:\n",
    "            flag = 0\n",
    "            if g // v == 1:\n",
    "                flag = 1\n",
    "            do_step(v // g, flag)\n",
    "            do_step(g, flag)\n",
    "            break\n",
    "            \n",
    "res = []\n",
    "do_step(int(input()))\n",
    "print(\" \".join(map(str, sorted(res))))"
   ]
  },
  {
   "cell_type": "code",
   "execution_count": null,
   "metadata": {
    "Collapsed": "false"
   },
   "outputs": [],
   "source": []
  }
 ],
 "metadata": {
  "kernelspec": {
   "display_name": "py3.6",
   "language": "python",
   "name": "other-env"
  },
  "language_info": {
   "codemirror_mode": {
    "name": "ipython",
    "version": 3
   },
   "file_extension": ".py",
   "mimetype": "text/x-python",
   "name": "python",
   "nbconvert_exporter": "python",
   "pygments_lexer": "ipython3",
   "version": "3.6.5"
  }
 },
 "nbformat": 4,
 "nbformat_minor": 4
}
