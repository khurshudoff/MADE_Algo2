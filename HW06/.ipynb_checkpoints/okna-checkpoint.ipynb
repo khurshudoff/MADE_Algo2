{
 "cells": [
  {
   "cell_type": "code",
   "execution_count": 13,
   "metadata": {},
   "outputs": [
    {
     "name": "stdin",
     "output_type": "stream",
     "text": [
      " 1\n",
      " 0 0 1 1\n"
     ]
    },
    {
     "name": "stdout",
     "output_type": "stream",
     "text": [
      "1\n",
      "0 0\n"
     ]
    }
   ],
   "source": [
    "class Rect:\n",
    "    def __init__(self, x1, y1, x2, y2):\n",
    "        self.x1 = x1\n",
    "        self.y1 = y1\n",
    "        self.x2 = x2\n",
    "        self.y2 = y2        \n",
    "        \n",
    "def is_in(x, y, r):\n",
    "    return x >= r.x1 and x <= r.x2 and y >= r.y1 and y <= r.y2\n",
    "\n",
    "\n",
    "n = int(input())\n",
    "r_arr = []\n",
    "p_arr = []\n",
    "for i in range(n):\n",
    "    x1, y1, x2, y2 = list(map(int, input().split()))\n",
    "    r_arr.append(Rect(x1, y1, x2, y2))\n",
    "    p_arr.append((x1, y1))\n",
    "    p_arr.append((x2, y2))\n",
    "    \n",
    "cnt = 0\n",
    "p = (0, 0)\n",
    "for x in range(0, 2*100):\n",
    "    for y in range(0, 2*100):\n",
    "        cur_cnt = 0\n",
    "        for r in r_arr:\n",
    "            cur_cnt += is_in(x, y, r)\n",
    "        if cur_cnt > cnt:\n",
    "            cnt = cur_cnt\n",
    "            p = (x, y)\n",
    "        \n",
    "print(cnt)\n",
    "print(p[0], p[1])"
   ]
  },
  {
   "cell_type": "code",
   "execution_count": null,
   "metadata": {},
   "outputs": [],
   "source": []
  }
 ],
 "metadata": {
  "kernelspec": {
   "display_name": "pyvenv",
   "language": "python",
   "name": "pyvenv"
  },
  "language_info": {
   "codemirror_mode": {
    "name": "ipython",
    "version": 3
   },
   "file_extension": ".py",
   "mimetype": "text/x-python",
   "name": "python",
   "nbconvert_exporter": "python",
   "pygments_lexer": "ipython3",
   "version": "3.8.2"
  }
 },
 "nbformat": 4,
 "nbformat_minor": 4
}
