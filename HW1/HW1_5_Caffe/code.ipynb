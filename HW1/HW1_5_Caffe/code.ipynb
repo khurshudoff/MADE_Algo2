{
 "cells": [
  {
   "cell_type": "code",
   "execution_count": null,
   "metadata": {},
   "outputs": [],
   "source": [
    "n = int(input())\n",
    "if n == 0:\n",
    "    print(0)\n",
    "    print(0,0)\n",
    "else:\n",
    "    costs = []\n",
    "    for _ in range(n):\n",
    "        costs.append(int(input()))\n",
    " \n",
    "    arr = [[int(1e10) for _ in range(n+2)] for __ in range(n+2)]\n",
    "    arr[0][0] = 0\n",
    "    for i in range(1,n+1):\n",
    "        for j in range(n+1):\n",
    "            if costs[i-1] <= 100:\n",
    "                arr[i][j] = min(arr[i-1][j] + costs[i-1], arr[i-1][j+1])\n",
    "            else:\n",
    "                arr[i][j] = min(arr[i-1][j-1] + costs[i-1], arr[i-1][j+1])\n",
    " \n",
    " \n",
    "    kupons_day = []\n",
    "    last_day = [arr[n][i] for i in range(n+1)]\n",
    "    kupons_left = 0\n",
    "    cur_min = last_day[0]\n",
    " \n",
    "    for idx, el in enumerate(last_day):\n",
    "        if el <= cur_min:\n",
    "            cur_min = el\n",
    "            kupons_left = idx\n",
    " \n",
    "    j = kupons_left\n",
    "    while (n>0):\n",
    "        if costs[n-1] <= 100:\n",
    "            if arr[n-1][j+1] == arr[n][j]:\n",
    "                kupons_day.append(n)\n",
    "                j += 1\n",
    "        else:\n",
    "            if arr[n-1][j+1] == arr[n][j]:\n",
    "                kupons_day.append(n)\n",
    "                j += 1\n",
    "            else:\n",
    "                j -= 1\n",
    " \n",
    "        n -= 1\n",
    " \n",
    "    print(cur_min)\n",
    "    print(kupons_left, len(kupons_day))\n",
    "    for el in kupons_day[::-1]:\n",
    "        print(el)"
   ]
  }
 ],
 "metadata": {
  "kernelspec": {
   "display_name": "py3.6",
   "language": "python",
   "name": "other-env"
  },
  "language_info": {
   "codemirror_mode": {
    "name": "ipython",
    "version": 3
   },
   "file_extension": ".py",
   "mimetype": "text/x-python",
   "name": "python",
   "nbconvert_exporter": "python",
   "pygments_lexer": "ipython3",
   "version": "3.6.5"
  }
 },
 "nbformat": 4,
 "nbformat_minor": 4
}
