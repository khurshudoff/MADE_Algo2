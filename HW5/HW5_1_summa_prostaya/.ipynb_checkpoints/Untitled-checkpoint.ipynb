{
 "cells": [
  {
   "cell_type": "code",
   "execution_count": 30,
   "metadata": {},
   "outputs": [
    {
     "name": "stdout",
     "output_type": "stream",
     "text": [
      "23\n"
     ]
    }
   ],
   "source": [
    "n, x, y, a0 = list(map(int, input().split()))\n",
    "m, z, t, b0 = list(map(int, input().split()))\n",
    "\n",
    "# n, x, y, a0 = 3, 1, 2, 3\n",
    "# m, z, t, b0 = 3, 1, -1, 4\n",
    "\n",
    "a = [a0] * int(1e7 + 5)\n",
    "b = [b0] * int(2 * (1e7 + 5))\n",
    "c = [b0 % n] * int(2 * (1e7 + 5))\n",
    "for i in range(n - 1):\n",
    "    a[i + 1] = ((x * a[i] + y) & ((1 << 16) - 1))\n",
    "    \n",
    "for i in range(1, len(a)):\n",
    "    a[i] += a[i - 1]\n",
    "    \n",
    "M = 2 * m + 1\n",
    "for i in range(M):\n",
    "    b[i + 1] = ((z * b[i] + t) & ((1 << 30) - 1))\n",
    "    c[i + 1] = (b[i + 1] % n)\n",
    "    \n",
    "s = 0\n",
    "for i in range(m):\n",
    "    l = min(c[2 * i], c[2 * i + 1])\n",
    "    r = max(c[2 * i], c[2 * i + 1])\n",
    "    \n",
    "    if l == 0:\n",
    "        s += a[r]\n",
    "    else:\n",
    "        s += a[r] - a[l - 1]\n",
    "        \n",
    "print(s)"
   ]
  },
  {
   "cell_type": "code",
   "execution_count": null,
   "metadata": {},
   "outputs": [],
   "source": [
    "3 1 2 3\n",
    "3 1 -1 4"
   ]
  },
  {
   "cell_type": "code",
   "execution_count": 29,
   "metadata": {},
   "outputs": [
    {
     "data": {
      "text/plain": [
       "[1, 1, 1, 1, 1, 1, 1, 1, 1, 1]"
      ]
     },
     "execution_count": 29,
     "metadata": {},
     "output_type": "execute_result"
    }
   ],
   "source": [
    "c[:10]"
   ]
  },
  {
   "cell_type": "code",
   "execution_count": null,
   "metadata": {},
   "outputs": [],
   "source": []
  }
 ],
 "metadata": {
  "kernelspec": {
   "display_name": "pyvenv",
   "language": "python",
   "name": "pyvenv"
  },
  "language_info": {
   "codemirror_mode": {
    "name": "ipython",
    "version": 3
   },
   "file_extension": ".py",
   "mimetype": "text/x-python",
   "name": "python",
   "nbconvert_exporter": "python",
   "pygments_lexer": "ipython3",
   "version": "3.8.2"
  }
 },
 "nbformat": 4,
 "nbformat_minor": 4
}
