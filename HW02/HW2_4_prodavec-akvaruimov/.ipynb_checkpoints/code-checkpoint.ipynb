{
 "cells": [
  {
   "cell_type": "code",
   "execution_count": 71,
   "metadata": {
    "Collapsed": "false"
   },
   "outputs": [
    {
     "name": "stdout",
     "output_type": "stream",
     "text": [
      "665\n",
      "4 5 2 3 1\n"
     ]
    }
   ],
   "source": [
    "def _min(arr):\n",
    "    new_arr = [el for el in arr if el >= 0]\n",
    "    if len(new_arr) == 0:\n",
    "        return -1\n",
    "    else:\n",
    "        return min(new_arr)\n",
    "    \n",
    "n = int(input())\n",
    " \n",
    "g = []\n",
    "for _ in range(n):\n",
    "    g.append(list(map(int, input().split())))\n",
    "\n",
    "dp = [[0 for _ in range(1 << n)] for __ in range(n)]\n",
    " \n",
    "for mask in range(0, 1 << n):\n",
    "    if mask in {1 << i for i in range(15)}:\n",
    "        continue\n",
    "    for v in range(n):\n",
    "        tmp = []\n",
    "        for u in range(n):\n",
    "            if u != v:\n",
    "                if (mask >> u) & 1:\n",
    "                    tmp.append(dp[u][mask - (1 << v)] + g[u][v])\n",
    "        dp[v][mask] = _min(tmp)\n",
    "        \n",
    "mask = (1 << n) - 1\n",
    "min_path, min_u = min([(dp[idx][mask], idx) for idx in range(n)])\n",
    "res = [min_u + 1]\n",
    "print(min_path)\n",
    "\n",
    "while mask != 0:\n",
    "    mask = mask - (1 << min_u)\n",
    "    for v in range(n):\n",
    "        if min_u != v and (mask >> v) & 1:\n",
    "            if dp[v][mask] + g[min_u][v] == min_path:\n",
    "                min_path -= g[min_u][v]\n",
    "                min_u = v\n",
    "                res.append(min_u + 1)\n",
    "                break\n",
    "                \n",
    "print(' '.join(map(str, reversed(res))))\n",
    "\n"
   ]
  },
  {
   "cell_type": "code",
   "execution_count": null,
   "metadata": {
    "Collapsed": "false"
   },
   "outputs": [],
   "source": []
  }
 ],
 "metadata": {
  "kernelspec": {
   "display_name": "py3.6",
   "language": "python",
   "name": "other-env"
  },
  "language_info": {
   "codemirror_mode": {
    "name": "ipython",
    "version": 3
   },
   "file_extension": ".py",
   "mimetype": "text/x-python",
   "name": "python",
   "nbconvert_exporter": "python",
   "pygments_lexer": "ipython3",
   "version": "3.6.5"
  }
 },
 "nbformat": 4,
 "nbformat_minor": 4
}
