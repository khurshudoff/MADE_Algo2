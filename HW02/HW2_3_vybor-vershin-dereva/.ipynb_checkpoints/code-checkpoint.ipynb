{
 "cells": [
  {
   "cell_type": "code",
   "execution_count": 31,
   "metadata": {
    "Collapsed": "false"
   },
   "outputs": [
    {
     "name": "stdin",
     "output_type": "stream",
     "text": [
      " 6\n",
      " 5\n",
      " 6\n",
      " 5\n",
      " 1\n",
      " 0\n",
      " 1\n"
     ]
    },
    {
     "name": "stdout",
     "output_type": "stream",
     "text": [
      "3\n"
     ]
    }
   ],
   "source": [
    "# bfs, который возвращает словарь, который используется для перенумерования вершин\n",
    "# то есть мы хотим сделать так, что бы p[k] < k для любого k\n",
    "def bfs(root):\n",
    "    d = {}\n",
    "    idx = 0\n",
    "    q = [root]\n",
    "    while len(q) > 0:\n",
    "        root = q[0]\n",
    "        del q[0]\n",
    "        d[root] = idx\n",
    "        idx += 1\n",
    "        for v in g[root]:\n",
    "            q.append(v)\n",
    "    return d\n",
    "    \n",
    "            \n",
    "n = int(input())\n",
    "p = [int(input()) for _ in range(n)]\n",
    "\n",
    "# создадим и заполним структуру для хранения графа\n",
    "g = [[] for _ in range(n + 1)]\n",
    "for idx, el in enumerate(p):\n",
    "    g[el].append(idx + 1)\n",
    "\n",
    "d = bfs(0)\n",
    "\n",
    "# создадим и заполним структуру для хранения графа\n",
    "# при этом перенумеруем вершины что бы p[k] < k для любого k\n",
    "g = [[] for _ in range(n + 1)]\n",
    "for idx, el in enumerate(p):\n",
    "    g[d[el]].append(d[idx + 1])\n",
    "    \n",
    "dp = [[0, 0] for _ in range(n + 1)]\n",
    "\n",
    "for v in range(n, -1, -1):\n",
    "    if not len(g[v]):\n",
    "        dp[v][1] = 1\n",
    "        continue\n",
    "\n",
    "    dp[v][0] += sum([max(dp[c][0], dp[c][1]) for c in g[v]])\n",
    "    dp[v][1] += sum([dp[c][0] for c in g[v]]) + 1\n",
    "    \n",
    "print(max(dp[1][0], dp[1][1]))\n"
   ]
  }
 ],
 "metadata": {
  "kernelspec": {
   "display_name": "py3.6",
   "language": "python",
   "name": "other-env"
  },
  "language_info": {
   "codemirror_mode": {
    "name": "ipython",
    "version": 3
   },
   "file_extension": ".py",
   "mimetype": "text/x-python",
   "name": "python",
   "nbconvert_exporter": "python",
   "pygments_lexer": "ipython3",
   "version": "3.6.5"
  }
 },
 "nbformat": 4,
 "nbformat_minor": 4
}
