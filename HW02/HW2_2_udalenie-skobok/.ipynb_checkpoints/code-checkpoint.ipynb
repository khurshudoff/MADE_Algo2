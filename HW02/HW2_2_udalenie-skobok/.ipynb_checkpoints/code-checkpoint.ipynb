{
 "cells": [
  {
   "cell_type": "code",
   "execution_count": 2,
   "metadata": {
    "Collapsed": "false"
   },
   "outputs": [
    {
     "name": "stdin",
     "output_type": "stream",
     "text": [
      " ()\n"
     ]
    },
    {
     "name": "stdout",
     "output_type": "stream",
     "text": [
      "()\n"
     ]
    }
   ],
   "source": [
    "from collections import defaultdict\n",
    "\n",
    "def get_path(s, i, j):\n",
    "    if not dp[i][j]:\n",
    "        return s[i:j + 1]\n",
    "    if dp[i][j] == dp[i + 1][j - 1] + 2 * int(s[i] != d[s[j]]):\n",
    "        if 2 * int(s[i] != d[s[j]]):\n",
    "            return get_path(s, i + 1, j - 1)\n",
    "        else:\n",
    "            return s[i] + get_path(s, i + 1, j - 1) + s[j]            \n",
    "    if dp[i][j] == dp[i + 1][j] + 1:\n",
    "        return get_path(s, i + 1, j)\n",
    "    if dp[i][j] == dp[i][j - 1] + 1:\n",
    "        return get_path(s, i, j - 1)\n",
    "    for k in range(i, j):\n",
    "        if dp[i][j] == dp[i][k] + dp[k + 1][j]:\n",
    "            return get_path(s, i, k) + get_path(s, k + 1, j)\n",
    "\n",
    "s = input()\n",
    "n = len(s)\n",
    "\n",
    "d = defaultdict(lambda: 'a')\n",
    "d[')'] = '('\n",
    "d[']'] = '['\n",
    "d['}'] = '{'\n",
    "\n",
    "dp = [[0 for _ in range(len(s))] for __ in range(len(s))]\n",
    "\n",
    "for i in range(n):\n",
    "    dp[i][i] = 1\n",
    "    \n",
    "for l in range(1, n):\n",
    "    for j in range(l, n):\n",
    "        i = j - l\n",
    "        tmp_arr = [dp[i + 1][j - 1] + 2 * int(s[i] != d[s[j]]),\n",
    "                   dp[i][j - 1] + 1,\n",
    "                   dp[i + 1][j] + 1\n",
    "                  ]\n",
    "        for k in range(i, j):\n",
    "            tmp_arr.append(dp[i][k] + dp[k + 1][j])\n",
    "        dp[i][j] = min(tmp_arr)\n",
    "        \n",
    "print(get_path(s, 0, len(s) - 1)) "
   ]
  },
  {
   "cell_type": "code",
   "execution_count": null,
   "metadata": {
    "Collapsed": "false"
   },
   "outputs": [],
   "source": []
  }
 ],
 "metadata": {
  "kernelspec": {
   "display_name": "py3.6",
   "language": "python",
   "name": "other-env"
  },
  "language_info": {
   "codemirror_mode": {
    "name": "ipython",
    "version": 3
   },
   "file_extension": ".py",
   "mimetype": "text/x-python",
   "name": "python",
   "nbconvert_exporter": "python",
   "pygments_lexer": "ipython3",
   "version": "3.6.5"
  }
 },
 "nbformat": 4,
 "nbformat_minor": 4
}
