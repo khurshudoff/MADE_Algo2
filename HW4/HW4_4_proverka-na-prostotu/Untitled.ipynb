{
 "cells": [
  {
   "cell_type": "code",
   "execution_count": 110,
   "metadata": {
    "Collapsed": "false"
   },
   "outputs": [],
   "source": [
    "def fast_power(el, power, mod):\n",
    "    res = 1\n",
    "    while power > 0:\n",
    "        if power & 1:\n",
    "            res = (res * el) % mod\n",
    "            power -= 1\n",
    "        else:\n",
    "            el = (el * el) % mod\n",
    "            power //= 2\n",
    "    return res\n",
    "\n",
    "def isPrime(m):\n",
    "    if m == 1:\n",
    "        return 'NO'\n",
    "    \n",
    "    tmp = m - 1\n",
    "    cnt2 = 0\n",
    "    while tmp % 2 == 0:\n",
    "        cnt2 += 1\n",
    "        tmp //= 2\n",
    "\n",
    "    arr_a = [100, 101, 102, 103, 104, 105, 106, 107, 108, 235, 23, 125436]\n",
    "        \n",
    "    for a in arr_a:\n",
    "        if a % m == 0:\n",
    "            continue\n",
    "        arr = [fast_power(a, tmp, m)]\n",
    "        for i in range(cnt2):\n",
    "            arr.append((arr[-1] ** 2) % m)\n",
    "        \n",
    "        for i in range(len(arr) - 1, -1, -1):\n",
    "            if arr[i] != 1:\n",
    "                break\n",
    "        if arr[-1] != 1 or (i != 0 and arr[i] != -1 % m):\n",
    "            return 'NO'\n",
    "    return 'YES'\n",
    "\n",
    "\n",
    "n = int(input())\n",
    "for _ in range(n):\n",
    "    print(isPrime(int(input())))\n"
   ]
  }
 ],
 "metadata": {
  "kernelspec": {
   "display_name": "py3.6",
   "language": "python",
   "name": "other-env"
  },
  "language_info": {
   "codemirror_mode": {
    "name": "ipython",
    "version": 3
   },
   "file_extension": ".py",
   "mimetype": "text/x-python",
   "name": "python",
   "nbconvert_exporter": "python",
   "pygments_lexer": "ipython3",
   "version": "3.6.5"
  }
 },
 "nbformat": 4,
 "nbformat_minor": 4
}
