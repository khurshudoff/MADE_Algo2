{
 "cells": [
  {
   "cell_type": "code",
   "execution_count": 12,
   "metadata": {
    "Collapsed": "false"
   },
   "outputs": [
    {
     "name": "stdin",
     "output_type": "stream",
     "text": [
      " 4 2\n",
      " ..\n",
      " ..\n",
      " ..\n",
      " ..\n"
     ]
    },
    {
     "name": "stdout",
     "output_type": "stream",
     "text": [
      "5\n"
     ]
    }
   ],
   "source": [
    "r, c = list(map(int, input().split()))\n",
    "\n",
    "arr = [[0 for _ in range(c)] for __ in range(r)]\n",
    "\n",
    "for i in range(r):\n",
    "    tmp = input()\n",
    "    for idx, el in enumerate(tmp):\n",
    "        if el == '.':\n",
    "            arr[i][idx] = 1\n",
    "            \n",
    "dp = [[0 for _ in range(1 << r)] for __ in range(r * c + 1)]\n",
    "dp[0][0] = 1\n",
    "    \n",
    "\n",
    "for x in range(r * c):\n",
    "    m = x // r\n",
    "    n = x - (x // r) * r\n",
    "    for mask in range(1 << r):\n",
    "        new_mask = mask >> 1\n",
    "        if mask & 1 or not arr[n][m]:\n",
    "            dp[x + 1][new_mask] += dp[x][mask]\n",
    "        else:\n",
    "            new_mask = (mask >> 1) + 2 ** (r - 1)\n",
    "            if (m + 1 == c) or (m + 1 < c and arr[n][m + 1]):\n",
    "                dp[x + 1][new_mask] += dp[x][mask]\n",
    "            if (n != r - 1) and ((mask & 2) == 0) and arr[n + 1][m]:\n",
    "                new_mask = (mask >> 1) + 1\n",
    "                dp[x + 1][new_mask] += dp[x][mask]    \n",
    "                \n",
    "print(dp[-1][0])"
   ]
  },
  {
   "cell_type": "code",
   "execution_count": null,
   "metadata": {
    "Collapsed": "false"
   },
   "outputs": [],
   "source": []
  }
 ],
 "metadata": {
  "kernelspec": {
   "display_name": "py3.6",
   "language": "python",
   "name": "other-env"
  },
  "language_info": {
   "codemirror_mode": {
    "name": "ipython",
    "version": 3
   },
   "file_extension": ".py",
   "mimetype": "text/x-python",
   "name": "python",
   "nbconvert_exporter": "python",
   "pygments_lexer": "ipython3",
   "version": "3.6.5"
  }
 },
 "nbformat": 4,
 "nbformat_minor": 4
}
