{
 "cells": [
  {
   "cell_type": "code",
   "execution_count": 12,
   "metadata": {
    "Collapsed": "false"
   },
   "outputs": [
    {
     "name": "stdin",
     "output_type": "stream",
     "text": [
      " 5\n",
      " NYYYY\n",
      " YNNNN\n",
      " YNNNN\n",
      " YNNNN\n",
      " YNNNN\n"
     ]
    },
    {
     "name": "stdout",
     "output_type": "stream",
     "text": [
      "1\n"
     ]
    }
   ],
   "source": [
    "def getBit(mask, i):\n",
    "    return (mask >> i) & 1\n",
    "    \n",
    "\n",
    "n = int(input())\n",
    "s = [input() for _ in range(n)]\n",
    "\n",
    "dp = [0 for _ in range(2 ** n + 2)]\n",
    "\n",
    "for mask in range(1, 1 << n):\n",
    "    for i in range(n - 1, -1, -1):\n",
    "        if getBit(mask, i):\n",
    "            dp[mask] = dp[mask - (1 << i)]\n",
    "            for j in range(n - 1, -1, -1):\n",
    "                if getBit(mask, j) == 1 and s[i][j] == 'Y':\n",
    "                    dp[mask] = max(dp[mask], dp[mask-(1 << i) - (1 << j)] + 1)\n",
    "                    \n",
    "print(dp[(1 << n) - 1] * 2)\n"
   ]
  },
  {
   "cell_type": "code",
   "execution_count": null,
   "metadata": {
    "Collapsed": "false"
   },
   "outputs": [],
   "source": []
  }
 ],
 "metadata": {
  "kernelspec": {
   "display_name": "py3.6",
   "language": "python",
   "name": "other-env"
  },
  "language_info": {
   "codemirror_mode": {
    "name": "ipython",
    "version": 3
   },
   "file_extension": ".py",
   "mimetype": "text/x-python",
   "name": "python",
   "nbconvert_exporter": "python",
   "pygments_lexer": "ipython3",
   "version": "3.6.5"
  }
 },
 "nbformat": 4,
 "nbformat_minor": 4
}
