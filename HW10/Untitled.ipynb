{
 "cells": [
  {
   "cell_type": "markdown",
   "metadata": {},
   "source": [
    "1. S --> Variable=Expr \n",
    "2. Expr --> Sum\n",
    "3. Sum --> ProductSum'\n",
    "4. Sum' --> [+|-]Sum | $\\varepsilon$\n",
    "5. Product --> OrProduct'\n",
    "6. Product' --> [*|/]Product | $\\varepsilon$\n",
    "7. Or --> XorOr'\n",
    "8. Or' --> \"|\"Or | $\\varepsilon$\n",
    "9. Xor --> AndmXor'\n",
    "10. Xor' --> ^Xor | $\\varepsilon$\n",
    "11. And --> TermAnd'\n",
    "12. And' --> &And | $\\varepsilon$\n",
    "13. Term --> InvTerm\n",
    "14. Inv --> ! | $\\varepsilon$\n",
    "15. Term --> (Expr) | Number | Variable | Bool\n",
    "\n",
    "* Number: \\d+ (В этой библиотеке во время парсинга применяется int())\n",
    "* Variable: [A-Za-z]\n",
    "* Bool: True|False"
   ]
  },
  {
   "cell_type": "markdown",
   "metadata": {},
   "source": [
    "1. Корректным названием переменной является большая или маленькая латинская буква.\n",
    "2. Перезаписывать переменные разрешается\n",
    "3. Тип используемых переменных - стандартный Python тип"
   ]
  },
  {
   "cell_type": "code",
   "execution_count": 1,
   "metadata": {},
   "outputs": [
    {
     "name": "stdout",
     "output_type": "stream",
     "text": [
      "Всего тестов: 768, из них: \n",
      "\tправильных: 768, \n",
      "\tс ошибкой при вычислении: 0, \n",
      "\tс ошибкой при парсинге: 0\n"
     ]
    }
   ],
   "source": [
    "from pyparsing import infixNotation, opAssoc, Keyword, Word, alphas, ParserElement, oneOf, pyparsing_common\n",
    "from classes import *\n",
    "\n",
    "EPS = 1e-5\n",
    "\n",
    "ParserElement.enablePackrat()\n",
    "\n",
    "TRUE = Keyword(\"True\")\n",
    "FALSE = Keyword(\"False\")\n",
    "integer = pyparsing_common.integer # helps to parse unsigned int\n",
    "variable = Word(alphas, exact=1) # helps to parse variable (should consist)\n",
    "\n",
    "operand = TRUE | FALSE | integer | variable\n",
    "operand.setParseAction(Operand)\n",
    "\n",
    "# define expression, based on expression operand and\n",
    "# list of operations in precedence order\n",
    "\n",
    "operators = [\n",
    "    (\"!\", 1, opAssoc.RIGHT, BoolNot),\n",
    "    (\"&\", 2, opAssoc.LEFT, BoolAnd),\n",
    "    (\"^\", 2, opAssoc.LEFT, BoolXOR),\n",
    "    (\"|\", 2, opAssoc.LEFT, BoolOr),\n",
    "    (\"/\", 2, opAssoc.LEFT, IntDiv),\n",
    "    (\"*\", 2, opAssoc.LEFT, IntMult),\n",
    "    (\"-\", 2, opAssoc.LEFT, IntMinus),        \n",
    "    (\"+\", 2, opAssoc.LEFT, IntPlus),\n",
    "]\n",
    "\n",
    "expr = variable + '=' + infixNotation(operand, operators)\n",
    "\n",
    "variables_dict = {}\n",
    "\n",
    "tests = []\n",
    "with open('generated_bool_tests.txt')  as f:\n",
    "    lines = f.readlines()\n",
    "    for line in lines:\n",
    "        sp_l = line.split(',')\n",
    "        tests.append((sp_l[0], eval(sp_l[1])))\n",
    "\n",
    "cnt_fail = 0\n",
    "cnt_err = 0\n",
    "cnt_correct = 0\n",
    "for t, expected in tests:\n",
    "    try:\n",
    "        var, _, res = expr.parseString(t, parseAll=True)\n",
    "        success = \"PASS\" if expected - EPS< res.calc() < expected + EPS else \"FAIL\"\n",
    "        variables_dict[var] = res.calc()\n",
    "        if success == \"FAIL\":\n",
    "            cnt_fail += 1\n",
    "            print(success, \"\\ntest:\", t, \"\\nparsed: \", res, \"=\", res.calc(), \"\\ncorrect =\", expected)\n",
    "        else:\n",
    "            cnt_correct += 1\n",
    "    except BaseException as e:\n",
    "        cnt_err += 1\n",
    "        print(\"ERROR\", e)\n",
    "        print(\"test:\", t)\n",
    "        print(\"_\" * 50)\n",
    "        \n",
    "print('Всего тестов: {}, из них: \\n\\tправильных: {}, \\\n",
    "\\n\\tс ошибкой при вычислении: {}, \\n\\tс ошибкой при парсинге: {}' \\\n",
    "      .format(len(tests), cnt_correct, cnt_fail, cnt_err))"
   ]
  },
  {
   "cell_type": "code",
   "execution_count": null,
   "metadata": {},
   "outputs": [],
   "source": []
  }
 ],
 "metadata": {
  "kernelspec": {
   "display_name": "pyvenv",
   "language": "python",
   "name": "pyvenv"
  },
  "language_info": {
   "codemirror_mode": {
    "name": "ipython",
    "version": 3
   },
   "file_extension": ".py",
   "mimetype": "text/x-python",
   "name": "python",
   "nbconvert_exporter": "python",
   "pygments_lexer": "ipython3",
   "version": "3.8.2"
  }
 },
 "nbformat": 4,
 "nbformat_minor": 4
}
