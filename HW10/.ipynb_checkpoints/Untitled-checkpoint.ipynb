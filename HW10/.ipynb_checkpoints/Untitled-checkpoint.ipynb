{
 "cells": [
  {
   "cell_type": "code",
   "execution_count": 16,
   "metadata": {},
   "outputs": [
    {
     "name": "stdout",
     "output_type": "stream",
     "text": [
      "A = 7\n",
      "B = -4\n",
      "D = 33\n",
      "C = 1.0\n",
      "A = 70\n",
      "Expected W:(ABCD...), found '2'  (at char 0), (line:1, col:1)\n",
      "Variable E is not defined\n"
     ]
    }
   ],
   "source": [
    "import sys\n",
    "from pyparsing import pyparsing_common, ParserElement, Word, alphas, Literal, oneOf, infixNotation, opAssoc\n",
    "\n",
    "def make_oper(v1, op, v2):\n",
    "    if op == '+':\n",
    "        return v1 + v2\n",
    "    if op == '-':\n",
    "        return v1 - v2\n",
    "    if op == '*':\n",
    "        return v1 * v2\n",
    "    if op == '/':\n",
    "        if v2 == 0:\n",
    "            raise ZeroDivisionError(\"Division by zero, {} / {}\".format(v1, v2))\n",
    "        return v1 / v2\n",
    "\n",
    "def calculate(arr):\n",
    "    if type(arr) == type(2):\n",
    "        return arr\n",
    "    if type(arr) == type('s'):\n",
    "        if arr not in variables:\n",
    "            raise BaseException(\"Variable {} is not defined\".format(arr))\n",
    "        return variables[arr]\n",
    "        \n",
    "    res = calculate(arr[0])\n",
    "    i = 1\n",
    "    while i < len(arr):\n",
    "        op = arr[i]\n",
    "        i += 1\n",
    "        val = calculate(arr[i])\n",
    "        i += 1\n",
    "        res = make_oper(res, op, val)\n",
    "    return res\n",
    "\n",
    "ParserElement.enablePackrat()\n",
    "sys.setrecursionlimit(3000)\n",
    "\n",
    "integer = pyparsing_common.integer # helps to parse unsigned int\n",
    "variable = Word(alphas, exact=1) # helps to parse variable (should consist)\n",
    "operand = integer | variable # define operand as integer | variable\n",
    "\n",
    "multop = oneOf(\"* /\") # define alternative operators\n",
    "plusop = oneOf(\"+ -\") # define alternative operators\n",
    "\n",
    "# define expression which consists of operands and operators\n",
    "# infixNotation = notations we use every day\n",
    "expr = variable + '=' + infixNotation(\n",
    "    operand,\n",
    "    [\n",
    "        (multop, 2, opAssoc.LEFT), # define operator sign, ammount of operands, assoc\n",
    "        (plusop, 2, opAssoc.LEFT),\n",
    "    ]\n",
    ")\n",
    "\n",
    "# define expression for parsing start of string 'A = '\n",
    "\n",
    "test = [\n",
    "    \"A = 9 - 2\",\n",
    "    \"B = 1 + A - 4 * 3\",\n",
    "    \"D = 33\",\n",
    "    \"C = 8 / 4 / 2\",\n",
    "    \"A = A * (5 + 5)\",\n",
    "    \"2 = 2\",\n",
    "    \"Q = E * E\",\n",
    "]\n",
    "\n",
    "variables = {}\n",
    "        \n",
    "for t in test:\n",
    "    try:\n",
    "        var, _, to_calc = expr.parseString(t, parseAll=True)\n",
    "        variables[var] = calculate(to_calc)\n",
    "        print(var, '=', variables[var])\n",
    "        \n",
    "    except BaseException as e:\n",
    "        print(e)"
   ]
  },
  {
   "cell_type": "markdown",
   "metadata": {},
   "source": [
    "1. S --> Variable=Expr \n",
    "2. Expr --> Sum\n",
    "3. Sum --> ProductSum'\n",
    "4. Sum' --> [+|-]Sum | $\\varepsilon$\n",
    "5. Product --> TermProduct'\n",
    "6. Product' --> [*|/]Product | $\\varepsilon$\n",
    "7. Term -->(Expr) | Number | Variable\n",
    "\n",
    "* Number: \\d+ (В этой библиотеке во время парсинга применяется int())\n",
    "* Variable: [A-Za-z]"
   ]
  },
  {
   "cell_type": "markdown",
   "metadata": {},
   "source": [
    "1. Корректным названием переменной является большая или маленькая латинская буква.\n",
    "2. Перезаписывать переменные разрешается\n",
    "3. Тип используемых переменных - стандартный Python тип"
   ]
  }
 ],
 "metadata": {
  "kernelspec": {
   "display_name": "pyvenv",
   "language": "python",
   "name": "pyvenv"
  },
  "language_info": {
   "codemirror_mode": {
    "name": "ipython",
    "version": 3
   },
   "file_extension": ".py",
   "mimetype": "text/x-python",
   "name": "python",
   "nbconvert_exporter": "python",
   "pygments_lexer": "ipython3",
   "version": "3.8.2"
  }
 },
 "nbformat": 4,
 "nbformat_minor": 4
}
