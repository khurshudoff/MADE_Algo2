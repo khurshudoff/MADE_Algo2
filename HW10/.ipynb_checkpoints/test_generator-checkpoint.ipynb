{
 "cells": [
  {
   "cell_type": "code",
   "execution_count": 32,
   "metadata": {},
   "outputs": [
    {
     "name": "stdout",
     "output_type": "stream",
     "text": [
      "480\n"
     ]
    }
   ],
   "source": [
    "signes = [\"+\", \"-\", \"*\", \"/\"]\n",
    "\n",
    "import random as rd\n",
    "\n",
    "cnt = 0\n",
    "\n",
    "with open('generated_arithm_tests.txt', \"w+\") as f:\n",
    "    for _ in range(10):\n",
    "        v1, v2, v3 = [rd.randint(1, 100) for _ in range(3)]\n",
    "        for s1 in signes:\n",
    "            for s2 in signes:\n",
    "                cnt += 3\n",
    "                expr = \"({} {} {}) {} {}\".format(v1, s1, v2, s2,  v3)\n",
    "                print(\"A = \" + expr + \",\", eval(expr), file=f)\n",
    "\n",
    "                expr = \"{} {} ({} {} {})\".format(v1, s1, v2, s2,  v3)\n",
    "                try:\n",
    "                    eval(expr)\n",
    "                    print(\"A = \" + expr + \",\", eval(expr), file=f)\n",
    "                except BaseException:\n",
    "                    pass\n",
    "\n",
    "                expr = \"{} {} {} {} {}\".format(v1, s1, v2, s2,  v3)\n",
    "                print(\"A = \" + expr + \",\", eval(expr), file=f)\n",
    "                \n",
    "print(cnt)"
   ]
  },
  {
   "cell_type": "code",
   "execution_count": 42,
   "metadata": {},
   "outputs": [
    {
     "name": "stdout",
     "output_type": "stream",
     "text": [
      "768\n"
     ]
    }
   ],
   "source": [
    "signes = [\"&\", \"~\", \"|\"]\n",
    "\n",
    "import random as rd\n",
    "\n",
    "cnt = 0\n",
    "\n",
    "tf_arr = ['True', 'False']\n",
    "sg_arr = ['!', '']\n",
    "op_arr = ['|', '&']\n",
    "\n",
    "with open('generated_bool_tests.txt', \"w+\") as f:\n",
    "    for v1 in tf_arr:\n",
    "        for v2 in tf_arr:\n",
    "            for v3 in tf_arr:\n",
    "                for sv1 in sg_arr:\n",
    "                    for sv2 in sg_arr:\n",
    "                        for sv3 in sg_arr:\n",
    "                            for op1 in op_arr:\n",
    "                                for op2 in op_arr:\n",
    "                                    cnt += 3\n",
    "                                    expr = \"({} {} {} {} {}) {} {} {}\".format(sv1, v1, op1, sv2, v2, op2, sv3, v3)\n",
    "                                    py_expr = expr.replace('!', 'not')\n",
    "                                    py_expr = py_expr.replace('&', 'and')\n",
    "                                    py_expr = py_expr.replace('|', 'or')\n",
    "                                    print(\"A = \" + expr + \",\", eval(py_expr), file=f)\n",
    "\n",
    "                                    expr = \"{} {} {} ({} {} {} {} {})\".format(sv1, v1, op1, sv2, v2, op2, sv3, v3)\n",
    "                                    py_expr = expr.replace('!', 'not')\n",
    "                                    py_expr = py_expr.replace('&', 'and')\n",
    "                                    py_expr = py_expr.replace('|', 'or')\n",
    "                                    print(\"A = \" + expr + \",\", eval(py_expr), file=f)\n",
    "\n",
    "                                    expr = \"{} {} {} {} {} {} {} {}\".format(sv1, v1, op1, sv2, v2, op2, sv3, v3)\n",
    "                                    py_expr = expr.replace('!', 'not')\n",
    "                                    py_expr = py_expr.replace('&', 'and')\n",
    "                                    py_expr = py_expr.replace('|', 'or')\n",
    "                                    print(\"A = \" + expr + \",\", eval(py_expr), file=f)\n",
    "\n",
    "print(cnt)                "
   ]
  },
  {
   "cell_type": "code",
   "execution_count": null,
   "metadata": {},
   "outputs": [],
   "source": []
  }
 ],
 "metadata": {
  "kernelspec": {
   "display_name": "pyvenv",
   "language": "python",
   "name": "pyvenv"
  },
  "language_info": {
   "codemirror_mode": {
    "name": "ipython",
    "version": 3
   },
   "file_extension": ".py",
   "mimetype": "text/x-python",
   "name": "python",
   "nbconvert_exporter": "python",
   "pygments_lexer": "ipython3",
   "version": "3.8.2"
  }
 },
 "nbformat": 4,
 "nbformat_minor": 4
}
